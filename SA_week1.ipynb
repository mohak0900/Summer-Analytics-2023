{
  "nbformat": 4,
  "nbformat_minor": 0,
  "metadata": {
    "colab": {
      "provenance": []
    },
    "kernelspec": {
      "name": "python3",
      "display_name": "Python 3"
    },
    "language_info": {
      "name": "python"
    }
  },
  "cells": [
    {
      "cell_type": "markdown",
      "source": [
        "**Welcome to your first assignment of Summer Analytics 2023! We hope you are excited to implement and test everything you have learnt up until now.<a href = \"https://drive.google.com/file/d/1U73P58VAc4EXM98Or9feKnVx9I9FOP_L/view?usp=sharing\"> The dataset</a> which you'll use includes information about Movies.**"
      ],
      "metadata": {
        "id": "7t7O3hPJQQ1h"
      }
    },
    {
      "cell_type": "markdown",
      "source": [
        " We've got an interesting set of questions for you to get a basic understanding of pandas and data visualization libraries. GOOD LUCK!\n",
        "\n",
        "Let's get started with importing numpy, pandas, seaborn and matplotlib!"
      ],
      "metadata": {
        "id": "8yDZv8F_QiqH"
      }
    },
    {
      "cell_type": "markdown",
      "source": [
        "Note - matplotlib should be imported with the command :\n",
        "\n",
        "**import matplotlib.pyplot as plt**"
      ],
      "metadata": {
        "id": "p-nMuCNQQxx_"
      }
    },
    {
      "cell_type": "markdown",
      "source": [
        "Start by importing all important libraries"
      ],
      "metadata": {
        "id": "nz8BTfnCRC8v"
      }
    },
    {
      "cell_type": "code",
      "execution_count": null,
      "metadata": {
        "id": "rKkyeMJiO0up"
      },
      "outputs": [],
      "source": [
        "import numpy as np\n",
        "import pandas as pd\n",
        "import matplotlib.pyplot as plt\n",
        "import seaborn as sns\n",
        "import plotly.express as px\n",
        "import plotly.graph_objects as go\n"
      ]
    },
    {
      "cell_type": "markdown",
      "source": [
        "Read the csv file and assign it to a variable ."
      ],
      "metadata": {
        "id": "2N8LabERRONN"
      }
    },
    {
      "cell_type": "code",
      "source": [
        "movie_data = pd.read_csv('/content/imdb_top_1000.csv')"
      ],
      "metadata": {
        "id": "vnjh3IZmRO72"
      },
      "execution_count": null,
      "outputs": []
    },
    {
      "cell_type": "markdown",
      "source": [
        "Display shape of dataframe"
      ],
      "metadata": {
        "id": "EifdwomBRPxy"
      }
    },
    {
      "cell_type": "code",
      "source": [
        "shape = movie_data.shape\n",
        "print('\\nDataFrame Shape :', shape)\n",
        "print('\\nNumber of rows :', shape[0])\n",
        "print('\\nNumber of columns :', shape[1])"
      ],
      "metadata": {
        "id": "lM8S9INfRSt3"
      },
      "execution_count": null,
      "outputs": []
    },
    {
      "cell_type": "markdown",
      "source": [
        "Print all columns of dataframe"
      ],
      "metadata": {
        "id": "Q9xTIt54RVTY"
      }
    },
    {
      "cell_type": "code",
      "source": [
        "pd.set_option('display.max_columns', None)\n",
        "movie_data.head()"
      ],
      "metadata": {
        "id": "kn3VPvn6RV4_"
      },
      "execution_count": null,
      "outputs": []
    },
    {
      "cell_type": "markdown",
      "source": [
        "Remove the column 'Poster_Link' and update the dataframe."
      ],
      "metadata": {
        "id": "3jtm084KRleN"
      }
    },
    {
      "cell_type": "code",
      "source": [
        "MovieData = movie_data.drop(columns='Poster_Link')\n",
        "MovieData.head()"
      ],
      "metadata": {
        "id": "zYIz3q0ARnuU"
      },
      "execution_count": null,
      "outputs": []
    },
    {
      "cell_type": "markdown",
      "source": [
        "Set the 'Series_Title' column as the index of dataframe"
      ],
      "metadata": {
        "id": "ss6QYp4YRrfY"
      }
    },
    {
      "cell_type": "code",
      "source": [
        "MovieData.set_index('Series_Title')"
      ],
      "metadata": {
        "id": "iXNaEmTkR3tB"
      },
      "execution_count": null,
      "outputs": []
    },
    {
      "cell_type": "markdown",
      "source": [
        "Print a list of all the unique Genre\n",
        "\n"
      ],
      "metadata": {
        "id": "f6cj49w0R4PS"
      }
    },
    {
      "cell_type": "code",
      "source": [
        "unique_genres = MovieData['Genre'].str.split(',').explode().str.strip().unique()\n",
        "print(unique_genres)"
      ],
      "metadata": {
        "id": "CO4kbBsySVjr"
      },
      "execution_count": null,
      "outputs": []
    },
    {
      "cell_type": "markdown",
      "source": [
        "1. What is the Number of Directors in the given dataset ?"
      ],
      "metadata": {
        "id": "Dfj_ZoVBS97W"
      }
    },
    {
      "cell_type": "code",
      "source": [
        "MovieData.Director.nunique(dropna = True)"
      ],
      "metadata": {
        "id": "92f8NLciTIU_"
      },
      "execution_count": null,
      "outputs": []
    },
    {
      "cell_type": "markdown",
      "source": [
        "2. What is the mean, median and standard deviation of IMDB rating in the dataset ?"
      ],
      "metadata": {
        "id": "5UnvBViyTOc9"
      }
    },
    {
      "cell_type": "code",
      "source": [
        "print(MovieData.IMDB_Rating.mean())\n",
        "print(MovieData.IMDB_Rating.median())\n",
        "print(MovieData.IMDB_Rating.std())"
      ],
      "metadata": {
        "id": "sOL7O83LTg30"
      },
      "execution_count": null,
      "outputs": []
    },
    {
      "cell_type": "markdown",
      "source": [
        "3. Which director has directed the most number of movies?"
      ],
      "metadata": {
        "id": "d_k1zoajTxyx"
      }
    },
    {
      "cell_type": "code",
      "source": [
        "dir = MovieData.Director.value_counts()\n",
        "print(dir)\n",
        "max_movies_dir = dir.idxmax()\n",
        "print(\"Director with the most number of movies:\", max_movies_dir)"
      ],
      "metadata": {
        "id": "-gvnNqSsT88L"
      },
      "execution_count": null,
      "outputs": []
    },
    {
      "cell_type": "markdown",
      "source": [
        "4. Name the Movie which has the highest Runtime ?"
      ],
      "metadata": {
        "id": "zGHeeFZnT-yx"
      }
    },
    {
      "cell_type": "code",
      "source": [
        "MovieData['Runtime'] = MovieData['Runtime'].str.replace('[^\\d]', '', regex=True).astype(int)\n",
        "MovieData['RT_hours']=round(MovieData['Runtime']/60,2)\n",
        "MovieData['RT_hours'].max()\n",
        "print(MovieData[['Series_Title', 'RT_hours']][MovieData.RT_hours == MovieData['RT_hours'].max()])"
      ],
      "metadata": {
        "id": "DLUlq71uqyIO"
      },
      "execution_count": null,
      "outputs": []
    },
    {
      "cell_type": "markdown",
      "source": [
        "5. How many movies are released after year 2000 and have IMDB rating > 8.5 ?"
      ],
      "metadata": {
        "id": "ast-zD1gULUS"
      }
    },
    {
      "cell_type": "code",
      "source": [
        "MovieData['Released_Year'] = pd.to_numeric(MovieData['Released_Year'], errors='coerce')\n",
        "MovieData_result = MovieData[(MovieData['IMDB_Rating'] > 8.5) & (MovieData['Released_Year'] > 2000)]\n",
        "print(MovieData_result[['Series_Title', 'Released_Year', 'IMDB_Rating']])\n"
      ],
      "metadata": {
        "id": "2SA7L3G-VLom"
      },
      "execution_count": null,
      "outputs": []
    },
    {
      "cell_type": "markdown",
      "source": [
        "Using seaborn make different types of plots, observe the trend and answer the questions.\n",
        "6. Make a countplot of Movies directed by top 5 directors."
      ],
      "metadata": {
        "id": "jYq9gv3aUl1u"
      }
    },
    {
      "cell_type": "code",
      "source": [
        "top_directors = MovieData['Director'].value_counts().head(5).index\n",
        "filtered_df = MovieData[MovieData['Director'].isin(top_directors)]\n",
        "plt.figure(figsize=(10, 6))\n",
        "sns.countplot(data=filtered_df, x='Director')\n",
        "plt.title('Count of Movies Directed by Top 5 Directors')\n",
        "plt.xlabel('Director')\n",
        "plt.ylabel('Count')\n",
        "plt.xticks(rotation=0)\n",
        "plt.show()"
      ],
      "metadata": {
        "id": "WOYH5X29ViUR"
      },
      "execution_count": null,
      "outputs": []
    },
    {
      "cell_type": "markdown",
      "source": [
        "7. Make a plot to analyze distribution of IMDB rating?"
      ],
      "metadata": {
        "id": "caUYiLeHVjIf"
      }
    },
    {
      "cell_type": "code",
      "source": [
        "plt.figure(figsize=(10, 6))\n",
        "plt.hist(MovieData['IMDB_Rating'], bins=20, edgecolor='black')\n",
        "plt.xlabel('IMDB Rating')\n",
        "plt.ylabel('Frequency')\n",
        "plt.title('Distribution of IMDB Ratings')\n",
        "plt.show()"
      ],
      "metadata": {
        "id": "c12iHvlLV9PR"
      },
      "execution_count": null,
      "outputs": []
    },
    {
      "cell_type": "markdown",
      "source": [
        "8. What type of Genre has the highest IMDB rating?"
      ],
      "metadata": {
        "id": "dXCoPuYlWISU"
      }
    },
    {
      "cell_type": "code",
      "source": [
        "MovieData['Individual_Genres'] = MovieData['Genre'].str.split(',')\n",
        "MovieData_exploded = MovieData.explode('Individual_Genres')\n",
        "genre_ratings = MovieData_exploded.groupby('Individual_Genres')['IMDB_Rating'].mean()\n",
        "sorted_genres = genre_ratings.sort_values(ascending=False)\n",
        "genre_with_highest_rating = sorted_genres.idxmax()\n",
        "print(\"Genre with the highest IMDB rating:\", genre_with_highest_rating)\n"
      ],
      "metadata": {
        "id": "0r9cKE7fWjBU"
      },
      "execution_count": null,
      "outputs": []
    },
    {
      "cell_type": "markdown",
      "source": [
        "9. Name the top 5 movies that have earned highest Meta score."
      ],
      "metadata": {
        "id": "Ff2urhAhWrHO"
      }
    },
    {
      "cell_type": "code",
      "source": [
        "\n",
        "metascore = MovieData.groupby('Series_Title')['Meta_score'].mean()\n",
        "sorted_metascore = metascore.sort_values(ascending=False)\n",
        "top_5_movies = sorted_metascore.head(5)\n",
        "print(top_5_movies)"
      ],
      "metadata": {
        "id": "lta342_iWxLd"
      },
      "execution_count": null,
      "outputs": []
    },
    {
      "cell_type": "markdown",
      "source": [
        "10. Of which Genre movie has the highest Runtime?"
      ],
      "metadata": {
        "id": "FPmZIOiwW5Jo"
      }
    },
    {
      "cell_type": "code",
      "source": [
        "MovieData['Individual_Genre'] = MovieData['Genre'].str.split(',')\n",
        "MovieDataexploded = MovieData.explode('Individual_Genre')\n",
        "genre_runtime = MovieDataexploded.groupby('Individual_Genre')['RT_hours'].mean()\n",
        "sortedgenres = genre_runtime.sort_values(ascending=False)\n",
        "genre_with_highest_runtime = sortedgenres.idxmax()\n",
        "print(\"Genre with the highest runtime(in hours):\", genre_with_highest_runtime)"
      ],
      "metadata": {
        "id": "R5a1FemoXJuo"
      },
      "execution_count": null,
      "outputs": []
    },
    {
      "cell_type": "markdown",
      "source": [
        "**Using the knowledge about Plotly that you have  try making plots and analyse the data .Whenever you come across an interesting analysis please show the corresponding plot(using Plotly) and comment down your analysis for the same**"
      ],
      "metadata": {
        "id": "B_NatnajpeBE"
      }
    },
    {
      "cell_type": "markdown",
      "source": [
        "*Scatter plot of IMDB ratings vs. Metascore:*"
      ],
      "metadata": {
        "id": "Wx7jE6g14HE8"
      }
    },
    {
      "cell_type": "code",
      "source": [
        "fig = px.scatter(MovieData, x='IMDB_Rating', y='Meta_score', hover_data=['Series_Title'])\n",
        "fig.show()"
      ],
      "metadata": {
        "id": "eGoTOAWvpfIu"
      },
      "execution_count": null,
      "outputs": []
    },
    {
      "cell_type": "markdown",
      "source": [
        "Line plot of the trend in IMDB ratings over the years:"
      ],
      "metadata": {
        "id": "pW6jsN3F460D"
      }
    },
    {
      "cell_type": "code",
      "source": [
        "MovieData['Released_Year'] = pd.to_datetime(MovieData['Released_Year'], format='%Y')\n",
        "rating_trend = MovieData.groupby('Released_Year')['IMDB_Rating'].mean().reset_index()\n",
        "fig = px.line(rating_trend, x='Released_Year', y='IMDB_Rating')\n",
        "fig.show()\n",
        "\n"
      ],
      "metadata": {
        "id": "aCUZhkNR46iU"
      },
      "execution_count": null,
      "outputs": []
    },
    {
      "cell_type": "markdown",
      "source": [
        "Pie chart of the distribution of Genres:"
      ],
      "metadata": {
        "id": "KA6ldU2e5Hqw"
      }
    },
    {
      "cell_type": "code",
      "source": [
        "unique_genres = MovieData['Genre'].str.split(',').explode().str.strip().unique()\n",
        "genre_counts = MovieData['Genre'].str.split(',').explode().str.strip().value_counts()\n",
        "fig = go.Figure(data=go.Pie(labels=unique_genres, values=genre_counts))\n",
        "fig.update_layout(title='Genre Distribution')\n",
        "fig.show()"
      ],
      "metadata": {
        "id": "BdwUTTTA5LCM"
      },
      "execution_count": null,
      "outputs": []
    },
    {
      "cell_type": "markdown",
      "source": [
        "Bar plot of the top 10 directors with the most movies:"
      ],
      "metadata": {
        "id": "DyV1YPhfj3i3"
      }
    },
    {
      "cell_type": "code",
      "source": [
        "top_directors = MovieData['Director'].value_counts().nlargest(10)\n",
        "fig = px.bar(top_directors, x=top_directors.index, y=top_directors.values)\n",
        "fig.show()\n"
      ],
      "metadata": {
        "id": "ck_1J900j2Yl"
      },
      "execution_count": null,
      "outputs": []
    }
  ]
}