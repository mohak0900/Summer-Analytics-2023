{
  "cells": [
    {
      "cell_type": "markdown",
      "metadata": {
        "id": "view-in-github",
        "colab_type": "text"
      },
      "source": [
        "<a href=\"https://colab.research.google.com/github/mohak0900/Summer-Analytics-2023/blob/main/SA_week3.ipynb\" target=\"_parent\"><img src=\"https://colab.research.google.com/assets/colab-badge.svg\" alt=\"Open In Colab\"/></a>"
      ]
    },
    {
      "cell_type": "markdown",
      "source": [
        "# Week 3 SA"
      ],
      "metadata": {
        "datalore": {
          "node_id": "zGa7mCHaDDruHtkm7dEPtv",
          "type": "MD",
          "hide_input_from_viewers": true,
          "hide_output_from_viewers": true
        },
        "id": "-taYOmXwM17Y"
      }
    },
    {
      "cell_type": "markdown",
      "source": [
        "Hey Everyone!!\n",
        "We hope that you are excited to apply your newly acquired knowledge and test it on this notebook.\n",
        "In this assignment, we will be walking through creating an email classifier based the content the mail has."
      ],
      "metadata": {
        "datalore": {
          "node_id": "U1ZcRPN3LUr8T0AFox9HNj",
          "type": "MD",
          "hide_input_from_viewers": true,
          "hide_output_from_viewers": true
        },
        "id": "KCEa40VxM17d"
      }
    },
    {
      "cell_type": "markdown",
      "source": [
        "## About the data"
      ],
      "metadata": {
        "datalore": {
          "node_id": "z4auZFCdOYmoX3bMIniLkV",
          "type": "MD",
          "hide_input_from_viewers": true,
          "hide_output_from_viewers": true
        },
        "id": "6WtFKz6_M17e"
      }
    },
    {
      "cell_type": "markdown",
      "source": [
        "The data \"email.csv\" has a few rows and about 3K columns including <b>Email_no.</b> and <b>spam</b>. <br>\n",
        "Email_no. is like a unique id for an email and spam denotes whether the given mail is a spam or not (0 = not spam, 1 = spam)<br>\n",
        "Rest of the columns are words in english with the values being equal to the frequency of that word in the email.\n",
        "<br>Our goal is to predict whether the given mail is spam or not"
      ],
      "metadata": {
        "datalore": {
          "node_id": "oqqW6dUiQklEDKoCWXWv5O",
          "type": "MD",
          "hide_input_from_viewers": true,
          "hide_output_from_viewers": true
        },
        "id": "l2k_5nT_M17e"
      }
    },
    {
      "cell_type": "markdown",
      "source": [
        "## Importing useful libraries"
      ],
      "metadata": {
        "datalore": {
          "node_id": "JAyWVZVGuGxuIiAHDsq61b",
          "type": "MD",
          "hide_input_from_viewers": true,
          "hide_output_from_viewers": true
        },
        "id": "rAuqAS3BM17f"
      }
    },
    {
      "cell_type": "code",
      "source": [
        "import pandas as pd\n",
        "import numpy as np\n",
        "import matplotlib.pyplot as plt\n",
        "from sklearn.feature_extraction.text import CountVectorizer\n",
        "from sklearn.model_selection import train_test_split\n",
        "from sklearn.naive_bayes import MultinomialNB\n",
        "from sklearn.metrics import accuracy_score, precision_score, roc_auc_score, roc_curve, confusion_matrix\n",
        "from sklearn.svm import SVC\n",
        "import seaborn as sns"
      ],
      "execution_count": null,
      "outputs": [],
      "metadata": {
        "datalore": {
          "node_id": "MGF6Kw4xf8SePOYMc0lIF1",
          "type": "CODE",
          "hide_input_from_viewers": true,
          "hide_output_from_viewers": true
        },
        "id": "Onl_Z8qlM17f"
      }
    },
    {
      "cell_type": "markdown",
      "source": [
        "## Loading the data\n",
        "### If you are using Datalore, you may use the csv file directly. Otherwise you may download it from <a href = \"https://drive.google.com/file/d/1OxJ6SSuPypg-AfLbMRl0O9So9aDDNzbC/view?usp=sharing\">this link</a>"
      ],
      "metadata": {
        "datalore": {
          "node_id": "8QlDKKKCWpgnkoXHPYswvd",
          "type": "MD",
          "hide_input_from_viewers": true,
          "hide_output_from_viewers": true
        },
        "id": "5Urb8GCaM17h"
      }
    },
    {
      "cell_type": "code",
      "source": [
        "df = pd.read_csv('/content/emails (1).csv')"
      ],
      "execution_count": null,
      "outputs": [],
      "metadata": {
        "datalore": {
          "node_id": "awQRzUu3t4PZmOtlTbPn44",
          "type": "CODE",
          "hide_input_from_viewers": true,
          "hide_output_from_viewers": true
        },
        "id": "UtjySM2GM17i"
      }
    },
    {
      "cell_type": "markdown",
      "source": [
        "## Describe the data and generate some basic insights unsing methods like .info"
      ],
      "metadata": {
        "datalore": {
          "node_id": "ex2R3oVXRwyZaziX9HkcGp",
          "type": "MD",
          "hide_input_from_viewers": true,
          "hide_output_from_viewers": true
        },
        "id": "mgfDBf7aM17i"
      }
    },
    {
      "cell_type": "code",
      "source": [
        "df.shape"
      ],
      "metadata": {
        "colab": {
          "base_uri": "https://localhost:8080/"
        },
        "id": "4YaB1kjRCF4l",
        "outputId": "665c8110-e272-4b65-f382-1c684f27598a"
      },
      "execution_count": null,
      "outputs": [
        {
          "output_type": "execute_result",
          "data": {
            "text/plain": [
              "(5172, 3002)"
            ]
          },
          "metadata": {},
          "execution_count": 217
        }
      ]
    },
    {
      "cell_type": "code",
      "source": [
        "df.head()"
      ],
      "execution_count": null,
      "outputs": [
        {
          "output_type": "execute_result",
          "data": {
            "text/plain": [
              "  Email No.  the  to  ect  and  for  of    a  you  hou  ...  connevey  jay  \\\n",
              "0   Email 1    0   0    1    0    0   0    2    0    0  ...         0    0   \n",
              "1   Email 2    8  13   24    6    6   2  102    1   27  ...         0    0   \n",
              "2   Email 3    0   0    1    0    0   0    8    0    0  ...         0    0   \n",
              "3   Email 4    0   5   22    0    5   1   51    2   10  ...         0    0   \n",
              "4   Email 5    7   6   17    1    5   2   57    0    9  ...         0    0   \n",
              "\n",
              "   valued  lay  infrastructure  military  allowing  ff  dry  Prediction  \n",
              "0       0    0               0         0         0   0    0           0  \n",
              "1       0    0               0         0         0   1    0           0  \n",
              "2       0    0               0         0         0   0    0           0  \n",
              "3       0    0               0         0         0   0    0           0  \n",
              "4       0    0               0         0         0   1    0           0  \n",
              "\n",
              "[5 rows x 3002 columns]"
            ],
            "text/html": [
              "\n",
              "  <div id=\"df-4e41ac98-d834-4ff8-ae7b-e1ac868ce43d\">\n",
              "    <div class=\"colab-df-container\">\n",
              "      <div>\n",
              "<style scoped>\n",
              "    .dataframe tbody tr th:only-of-type {\n",
              "        vertical-align: middle;\n",
              "    }\n",
              "\n",
              "    .dataframe tbody tr th {\n",
              "        vertical-align: top;\n",
              "    }\n",
              "\n",
              "    .dataframe thead th {\n",
              "        text-align: right;\n",
              "    }\n",
              "</style>\n",
              "<table border=\"1\" class=\"dataframe\">\n",
              "  <thead>\n",
              "    <tr style=\"text-align: right;\">\n",
              "      <th></th>\n",
              "      <th>Email No.</th>\n",
              "      <th>the</th>\n",
              "      <th>to</th>\n",
              "      <th>ect</th>\n",
              "      <th>and</th>\n",
              "      <th>for</th>\n",
              "      <th>of</th>\n",
              "      <th>a</th>\n",
              "      <th>you</th>\n",
              "      <th>hou</th>\n",
              "      <th>...</th>\n",
              "      <th>connevey</th>\n",
              "      <th>jay</th>\n",
              "      <th>valued</th>\n",
              "      <th>lay</th>\n",
              "      <th>infrastructure</th>\n",
              "      <th>military</th>\n",
              "      <th>allowing</th>\n",
              "      <th>ff</th>\n",
              "      <th>dry</th>\n",
              "      <th>Prediction</th>\n",
              "    </tr>\n",
              "  </thead>\n",
              "  <tbody>\n",
              "    <tr>\n",
              "      <th>0</th>\n",
              "      <td>Email 1</td>\n",
              "      <td>0</td>\n",
              "      <td>0</td>\n",
              "      <td>1</td>\n",
              "      <td>0</td>\n",
              "      <td>0</td>\n",
              "      <td>0</td>\n",
              "      <td>2</td>\n",
              "      <td>0</td>\n",
              "      <td>0</td>\n",
              "      <td>...</td>\n",
              "      <td>0</td>\n",
              "      <td>0</td>\n",
              "      <td>0</td>\n",
              "      <td>0</td>\n",
              "      <td>0</td>\n",
              "      <td>0</td>\n",
              "      <td>0</td>\n",
              "      <td>0</td>\n",
              "      <td>0</td>\n",
              "      <td>0</td>\n",
              "    </tr>\n",
              "    <tr>\n",
              "      <th>1</th>\n",
              "      <td>Email 2</td>\n",
              "      <td>8</td>\n",
              "      <td>13</td>\n",
              "      <td>24</td>\n",
              "      <td>6</td>\n",
              "      <td>6</td>\n",
              "      <td>2</td>\n",
              "      <td>102</td>\n",
              "      <td>1</td>\n",
              "      <td>27</td>\n",
              "      <td>...</td>\n",
              "      <td>0</td>\n",
              "      <td>0</td>\n",
              "      <td>0</td>\n",
              "      <td>0</td>\n",
              "      <td>0</td>\n",
              "      <td>0</td>\n",
              "      <td>0</td>\n",
              "      <td>1</td>\n",
              "      <td>0</td>\n",
              "      <td>0</td>\n",
              "    </tr>\n",
              "    <tr>\n",
              "      <th>2</th>\n",
              "      <td>Email 3</td>\n",
              "      <td>0</td>\n",
              "      <td>0</td>\n",
              "      <td>1</td>\n",
              "      <td>0</td>\n",
              "      <td>0</td>\n",
              "      <td>0</td>\n",
              "      <td>8</td>\n",
              "      <td>0</td>\n",
              "      <td>0</td>\n",
              "      <td>...</td>\n",
              "      <td>0</td>\n",
              "      <td>0</td>\n",
              "      <td>0</td>\n",
              "      <td>0</td>\n",
              "      <td>0</td>\n",
              "      <td>0</td>\n",
              "      <td>0</td>\n",
              "      <td>0</td>\n",
              "      <td>0</td>\n",
              "      <td>0</td>\n",
              "    </tr>\n",
              "    <tr>\n",
              "      <th>3</th>\n",
              "      <td>Email 4</td>\n",
              "      <td>0</td>\n",
              "      <td>5</td>\n",
              "      <td>22</td>\n",
              "      <td>0</td>\n",
              "      <td>5</td>\n",
              "      <td>1</td>\n",
              "      <td>51</td>\n",
              "      <td>2</td>\n",
              "      <td>10</td>\n",
              "      <td>...</td>\n",
              "      <td>0</td>\n",
              "      <td>0</td>\n",
              "      <td>0</td>\n",
              "      <td>0</td>\n",
              "      <td>0</td>\n",
              "      <td>0</td>\n",
              "      <td>0</td>\n",
              "      <td>0</td>\n",
              "      <td>0</td>\n",
              "      <td>0</td>\n",
              "    </tr>\n",
              "    <tr>\n",
              "      <th>4</th>\n",
              "      <td>Email 5</td>\n",
              "      <td>7</td>\n",
              "      <td>6</td>\n",
              "      <td>17</td>\n",
              "      <td>1</td>\n",
              "      <td>5</td>\n",
              "      <td>2</td>\n",
              "      <td>57</td>\n",
              "      <td>0</td>\n",
              "      <td>9</td>\n",
              "      <td>...</td>\n",
              "      <td>0</td>\n",
              "      <td>0</td>\n",
              "      <td>0</td>\n",
              "      <td>0</td>\n",
              "      <td>0</td>\n",
              "      <td>0</td>\n",
              "      <td>0</td>\n",
              "      <td>1</td>\n",
              "      <td>0</td>\n",
              "      <td>0</td>\n",
              "    </tr>\n",
              "  </tbody>\n",
              "</table>\n",
              "<p>5 rows × 3002 columns</p>\n",
              "</div>\n",
              "      <button class=\"colab-df-convert\" onclick=\"convertToInteractive('df-4e41ac98-d834-4ff8-ae7b-e1ac868ce43d')\"\n",
              "              title=\"Convert this dataframe to an interactive table.\"\n",
              "              style=\"display:none;\">\n",
              "        \n",
              "  <svg xmlns=\"http://www.w3.org/2000/svg\" height=\"24px\"viewBox=\"0 0 24 24\"\n",
              "       width=\"24px\">\n",
              "    <path d=\"M0 0h24v24H0V0z\" fill=\"none\"/>\n",
              "    <path d=\"M18.56 5.44l.94 2.06.94-2.06 2.06-.94-2.06-.94-.94-2.06-.94 2.06-2.06.94zm-11 1L8.5 8.5l.94-2.06 2.06-.94-2.06-.94L8.5 2.5l-.94 2.06-2.06.94zm10 10l.94 2.06.94-2.06 2.06-.94-2.06-.94-.94-2.06-.94 2.06-2.06.94z\"/><path d=\"M17.41 7.96l-1.37-1.37c-.4-.4-.92-.59-1.43-.59-.52 0-1.04.2-1.43.59L10.3 9.45l-7.72 7.72c-.78.78-.78 2.05 0 2.83L4 21.41c.39.39.9.59 1.41.59.51 0 1.02-.2 1.41-.59l7.78-7.78 2.81-2.81c.8-.78.8-2.07 0-2.86zM5.41 20L4 18.59l7.72-7.72 1.47 1.35L5.41 20z\"/>\n",
              "  </svg>\n",
              "      </button>\n",
              "      \n",
              "  <style>\n",
              "    .colab-df-container {\n",
              "      display:flex;\n",
              "      flex-wrap:wrap;\n",
              "      gap: 12px;\n",
              "    }\n",
              "\n",
              "    .colab-df-convert {\n",
              "      background-color: #E8F0FE;\n",
              "      border: none;\n",
              "      border-radius: 50%;\n",
              "      cursor: pointer;\n",
              "      display: none;\n",
              "      fill: #1967D2;\n",
              "      height: 32px;\n",
              "      padding: 0 0 0 0;\n",
              "      width: 32px;\n",
              "    }\n",
              "\n",
              "    .colab-df-convert:hover {\n",
              "      background-color: #E2EBFA;\n",
              "      box-shadow: 0px 1px 2px rgba(60, 64, 67, 0.3), 0px 1px 3px 1px rgba(60, 64, 67, 0.15);\n",
              "      fill: #174EA6;\n",
              "    }\n",
              "\n",
              "    [theme=dark] .colab-df-convert {\n",
              "      background-color: #3B4455;\n",
              "      fill: #D2E3FC;\n",
              "    }\n",
              "\n",
              "    [theme=dark] .colab-df-convert:hover {\n",
              "      background-color: #434B5C;\n",
              "      box-shadow: 0px 1px 3px 1px rgba(0, 0, 0, 0.15);\n",
              "      filter: drop-shadow(0px 1px 2px rgba(0, 0, 0, 0.3));\n",
              "      fill: #FFFFFF;\n",
              "    }\n",
              "  </style>\n",
              "\n",
              "      <script>\n",
              "        const buttonEl =\n",
              "          document.querySelector('#df-4e41ac98-d834-4ff8-ae7b-e1ac868ce43d button.colab-df-convert');\n",
              "        buttonEl.style.display =\n",
              "          google.colab.kernel.accessAllowed ? 'block' : 'none';\n",
              "\n",
              "        async function convertToInteractive(key) {\n",
              "          const element = document.querySelector('#df-4e41ac98-d834-4ff8-ae7b-e1ac868ce43d');\n",
              "          const dataTable =\n",
              "            await google.colab.kernel.invokeFunction('convertToInteractive',\n",
              "                                                     [key], {});\n",
              "          if (!dataTable) return;\n",
              "\n",
              "          const docLinkHtml = 'Like what you see? Visit the ' +\n",
              "            '<a target=\"_blank\" href=https://colab.research.google.com/notebooks/data_table.ipynb>data table notebook</a>'\n",
              "            + ' to learn more about interactive tables.';\n",
              "          element.innerHTML = '';\n",
              "          dataTable['output_type'] = 'display_data';\n",
              "          await google.colab.output.renderOutput(dataTable, element);\n",
              "          const docLink = document.createElement('div');\n",
              "          docLink.innerHTML = docLinkHtml;\n",
              "          element.appendChild(docLink);\n",
              "        }\n",
              "      </script>\n",
              "    </div>\n",
              "  </div>\n",
              "  "
            ]
          },
          "metadata": {},
          "execution_count": 218
        }
      ],
      "metadata": {
        "datalore": {
          "node_id": "yfyNpm25jyzCNCFOWtDwlM",
          "type": "CODE",
          "hide_input_from_viewers": true,
          "hide_output_from_viewers": true
        },
        "id": "RZZYUT0sM17j",
        "outputId": "c4ff3081-265b-439f-bb35-a1c46c10710b",
        "colab": {
          "base_uri": "https://localhost:8080/",
          "height": 235
        }
      }
    },
    {
      "cell_type": "code",
      "source": [],
      "metadata": {
        "id": "l-fS4zI0QIL8"
      },
      "execution_count": null,
      "outputs": []
    },
    {
      "cell_type": "code",
      "source": [
        "# Separate spam and non-spam emails\n",
        "spam_emails = df[df[\"Prediction\"] == 1]\n",
        "non_spam_emails = df[df[\"Prediction\"] == 0]\n",
        "spam_count = len(spam_emails)\n",
        "non_spam_count = len(non_spam_emails)\n",
        "\n",
        "print(\"Number of non-spam emails:\", non_spam_count)\n",
        "print(\"Number of spam emails:\", spam_count)\n",
        "\n",
        "data = {'Category': ['Non Spam Emails', 'Spam Emails'],\n",
        "        'Values': [non_spam_count, spam_count]}\n",
        "df1 = pd.DataFrame(data)\n",
        "\n",
        "# Create a bar plot\n",
        "ax = df1.plot(x='Category', y='Values', kind='bar', color=['blue', 'orange'])\n",
        "ax.set_title('Bar chart')\n",
        "ax.set_xlabel('Categories')\n",
        "ax.set_ylabel('Counts')\n",
        "plt.xticks(rotation=0)\n",
        "plt.show()"
      ],
      "metadata": {
        "colab": {
          "base_uri": "https://localhost:8080/",
          "height": 507
        },
        "id": "B06Ip-WvbMAB",
        "outputId": "afddd2eb-41c0-456e-f330-c819b4d950ac"
      },
      "execution_count": null,
      "outputs": [
        {
          "output_type": "stream",
          "name": "stdout",
          "text": [
            "Number of non-spam emails: 3672\n",
            "Number of spam emails: 1500\n"
          ]
        },
        {
          "output_type": "display_data",
          "data": {
            "text/plain": [
              "<Figure size 640x480 with 1 Axes>"
            ],
            "image/png": "[encoded data removed]"
          },
          "metadata": {}
        }
      ]
    },
    {
      "cell_type": "markdown",
      "source": [
        "## Looking at the data"
      ],
      "metadata": {
        "datalore": {
          "node_id": "zvjpKUkrIVkahpty2eoRva",
          "type": "MD",
          "hide_input_from_viewers": true,
          "hide_output_from_viewers": true
        },
        "id": "XyEyM78nM17k"
      }
    },
    {
      "cell_type": "code",
      "source": [
        "# Plot histogram to visualize the top 5 common words in spam mail and non-spam mails seperately.\n",
        "\n",
        "spam_word_counts = spam_emails.iloc[:, 1:-1].sum()\n",
        "top_spam_words = spam_word_counts.nlargest(5)\n",
        "\n",
        "non_spam_word_counts = non_spam_emails.iloc[:, 1:-1].sum()\n",
        "top_non_spam_words = non_spam_word_counts.nlargest(5)\n",
        "\n",
        "\n",
        "# Prepare data for plotting\n",
        "spam_words, spam_counts = top_spam_words.index, top_spam_words.values\n",
        "non_spam_words, non_spam_counts = top_non_spam_words.index, top_non_spam_words.values\n",
        "\n",
        "# Plot histogram for spam emails\n",
        "plt.figure(figsize=(8, 4))\n",
        "plt.bar(spam_words, spam_counts)\n",
        "plt.xlabel('Words')\n",
        "plt.ylabel('Count')\n",
        "plt.title('Top 5 Common Words in Spam Emails')\n",
        "plt.show()\n",
        "\n",
        "# Plot histogram for non-spam emails\n",
        "plt.figure(figsize=(8, 4))\n",
        "plt.bar(non_spam_words, non_spam_counts)\n",
        "plt.xlabel('Words')\n",
        "plt.ylabel('Count')\n",
        "plt.title('Top 5 Common Words in Non-Spam Emails')\n",
        "plt.show()\n"
      ],
      "metadata": {
        "colab": {
          "base_uri": "https://localhost:8080/",
          "height": 803
        },
        "id": "CUOX5093XLak",
        "outputId": "c511a135-ea1b-4f5a-8732-37f28495c5e9"
      },
      "execution_count": null,
      "outputs": [
        {
          "output_type": "display_data",
          "data": {
            "text/plain": [
              "<Figure size 800x400 with 1 Axes>"
            ],
            "image/png": "[encoded data removed]"
          },
          "metadata": {}
        },
        {
          "output_type": "display_data",
          "data": {
            "text/plain": [
              "<Figure size 800x400 with 1 Axes>"
            ],
            "image/png": "[encoded data removed]"
          },
          "metadata": {}
        }
      ]
    },
    {
      "cell_type": "markdown",
      "source": [
        "## Figuring out some comparatively more important features"
      ],
      "metadata": {
        "datalore": {
          "node_id": "C3PCd8f8vDpy1xh1S0jLnr",
          "type": "MD",
          "hide_input_from_viewers": true,
          "hide_output_from_viewers": true
        },
        "id": "wVRj4C4zM17l"
      }
    },
    {
      "cell_type": "code",
      "source": [
        "# There are 3K rows given in this dataset, can you think of some method to reduce the number of columns in the dataset?\n",
        "# Try taking only top 1.5K that will comprise of some of the most \"deciding factors\"\n",
        "\n",
        "\n",
        "# Calculate the sum of word counts for each column\n",
        "word_counts = df.iloc[:, 1:-1].sum()\n",
        "\n",
        "# Sort the columns based on their total frequency in descending order\n",
        "sorted_words = word_counts.sort_values(ascending=False)\n",
        "\n",
        "# Select the top 1.5K columns with the highest total frequency\n",
        "top_words = sorted_words[:1500]\n",
        "\n",
        "# Create a new dataset with the selected columns\n",
        "reduced_dataset = df[['Email No.'] + top_words.index.tolist() + ['Prediction']]\n",
        "\n",
        "reduced_dataset.shape"
      ],
      "execution_count": null,
      "outputs": [
        {
          "output_type": "execute_result",
          "data": {
            "text/plain": [
              "(5172, 1502)"
            ]
          },
          "metadata": {},
          "execution_count": 221
        }
      ],
      "metadata": {
        "datalore": {
          "node_id": "2ZKzjK3mKBGSfxz73JEBVF",
          "type": "CODE",
          "hide_input_from_viewers": true,
          "hide_output_from_viewers": true
        },
        "id": "k9Y6032QM17l",
        "colab": {
          "base_uri": "https://localhost:8080/"
        },
        "outputId": "4dad93ea-4a05-454c-bb2d-496246f1ef82"
      }
    },
    {
      "cell_type": "code",
      "source": [
        "reduced_dataset.head()"
      ],
      "metadata": {
        "colab": {
          "base_uri": "https://localhost:8080/",
          "height": 235
        },
        "id": "kf_u8iNRuH9v",
        "outputId": "ca51a2d5-7cdb-471f-c3e5-69b84ef9aed9"
      },
      "execution_count": null,
      "outputs": [
        {
          "output_type": "execute_result",
          "data": {
            "text/plain": [
              "  Email No.    e   t    a    o   n   i    r   s   l  ...  enserch  nothing  \\\n",
              "0   Email 1    4   4    2    0   0   2    4   3   0  ...        0        0   \n",
              "1   Email 2  141  91  102  131  70  61  122  95  35  ...        0        0   \n",
              "2   Email 3    3   3    8    5   8   8    0   2   4  ...        0        0   \n",
              "3   Email 4   79  49   51   48  23  16   46  36  27  ...        0        0   \n",
              "4   Email 5   71  63   57   58  42  30   41  19  34  ...        0        0   \n",
              "\n",
              "   become  bellamy  facility  pick  apache  cernosek  features  Prediction  \n",
              "0       0        0         0     0       0         0         0           0  \n",
              "1       0        0         0     0       0         0         0           0  \n",
              "2       0        0         0     0       0         0         0           0  \n",
              "3       0        0         0     0       0         0         0           0  \n",
              "4       0        0         0     0       0         0         0           0  \n",
              "\n",
              "[5 rows x 1502 columns]"
            ],
            "text/html": [
              "\n",
              "  <div id=\"df-118b6850-8066-4bd5-91cb-7f29cb8a35dc\">\n",
              "    <div class=\"colab-df-container\">\n",
              "      <div>\n",
              "<style scoped>\n",
              "    .dataframe tbody tr th:only-of-type {\n",
              "        vertical-align: middle;\n",
              "    }\n",
              "\n",
              "    .dataframe tbody tr th {\n",
              "        vertical-align: top;\n",
              "    }\n",
              "\n",
              "    .dataframe thead th {\n",
              "        text-align: right;\n",
              "    }\n",
              "</style>\n",
              "<table border=\"1\" class=\"dataframe\">\n",
              "  <thead>\n",
              "    <tr style=\"text-align: right;\">\n",
              "      <th></th>\n",
              "      <th>Email No.</th>\n",
              "      <th>e</th>\n",
              "      <th>t</th>\n",
              "      <th>a</th>\n",
              "      <th>o</th>\n",
              "      <th>n</th>\n",
              "      <th>i</th>\n",
              "      <th>r</th>\n",
              "      <th>s</th>\n",
              "      <th>l</th>\n",
              "      <th>...</th>\n",
              "      <th>enserch</th>\n",
              "      <th>nothing</th>\n",
              "      <th>become</th>\n",
              "      <th>bellamy</th>\n",
              "      <th>facility</th>\n",
              "      <th>pick</th>\n",
              "      <th>apache</th>\n",
              "      <th>cernosek</th>\n",
              "      <th>features</th>\n",
              "      <th>Prediction</th>\n",
              "    </tr>\n",
              "  </thead>\n",
              "  <tbody>\n",
              "    <tr>\n",
              "      <th>0</th>\n",
              "      <td>Email 1</td>\n",
              "      <td>4</td>\n",
              "      <td>4</td>\n",
              "      <td>2</td>\n",
              "      <td>0</td>\n",
              "      <td>0</td>\n",
              "      <td>2</td>\n",
              "      <td>4</td>\n",
              "      <td>3</td>\n",
              "      <td>0</td>\n",
              "      <td>...</td>\n",
              "      <td>0</td>\n",
              "      <td>0</td>\n",
              "      <td>0</td>\n",
              "      <td>0</td>\n",
              "      <td>0</td>\n",
              "      <td>0</td>\n",
              "      <td>0</td>\n",
              "      <td>0</td>\n",
              "      <td>0</td>\n",
              "      <td>0</td>\n",
              "    </tr>\n",
              "    <tr>\n",
              "      <th>1</th>\n",
              "      <td>Email 2</td>\n",
              "      <td>141</td>\n",
              "      <td>91</td>\n",
              "      <td>102</td>\n",
              "      <td>131</td>\n",
              "      <td>70</td>\n",
              "      <td>61</td>\n",
              "      <td>122</td>\n",
              "      <td>95</td>\n",
              "      <td>35</td>\n",
              "      <td>...</td>\n",
              "      <td>0</td>\n",
              "      <td>0</td>\n",
              "      <td>0</td>\n",
              "      <td>0</td>\n",
              "      <td>0</td>\n",
              "      <td>0</td>\n",
              "      <td>0</td>\n",
              "      <td>0</td>\n",
              "      <td>0</td>\n",
              "      <td>0</td>\n",
              "    </tr>\n",
              "    <tr>\n",
              "      <th>2</th>\n",
              "      <td>Email 3</td>\n",
              "      <td>3</td>\n",
              "      <td>3</td>\n",
              "      <td>8</td>\n",
              "      <td>5</td>\n",
              "      <td>8</td>\n",
              "      <td>8</td>\n",
              "      <td>0</td>\n",
              "      <td>2</td>\n",
              "      <td>4</td>\n",
              "      <td>...</td>\n",
              "      <td>0</td>\n",
              "      <td>0</td>\n",
              "      <td>0</td>\n",
              "      <td>0</td>\n",
              "      <td>0</td>\n",
              "      <td>0</td>\n",
              "      <td>0</td>\n",
              "      <td>0</td>\n",
              "      <td>0</td>\n",
              "      <td>0</td>\n",
              "    </tr>\n",
              "    <tr>\n",
              "      <th>3</th>\n",
              "      <td>Email 4</td>\n",
              "      <td>79</td>\n",
              "      <td>49</td>\n",
              "      <td>51</td>\n",
              "      <td>48</td>\n",
              "      <td>23</td>\n",
              "      <td>16</td>\n",
              "      <td>46</td>\n",
              "      <td>36</td>\n",
              "      <td>27</td>\n",
              "      <td>...</td>\n",
              "      <td>0</td>\n",
              "      <td>0</td>\n",
              "      <td>0</td>\n",
              "      <td>0</td>\n",
              "      <td>0</td>\n",
              "      <td>0</td>\n",
              "      <td>0</td>\n",
              "      <td>0</td>\n",
              "      <td>0</td>\n",
              "      <td>0</td>\n",
              "    </tr>\n",
              "    <tr>\n",
              "      <th>4</th>\n",
              "      <td>Email 5</td>\n",
              "      <td>71</td>\n",
              "      <td>63</td>\n",
              "      <td>57</td>\n",
              "      <td>58</td>\n",
              "      <td>42</td>\n",
              "      <td>30</td>\n",
              "      <td>41</td>\n",
              "      <td>19</td>\n",
              "      <td>34</td>\n",
              "      <td>...</td>\n",
              "      <td>0</td>\n",
              "      <td>0</td>\n",
              "      <td>0</td>\n",
              "      <td>0</td>\n",
              "      <td>0</td>\n",
              "      <td>0</td>\n",
              "      <td>0</td>\n",
              "      <td>0</td>\n",
              "      <td>0</td>\n",
              "      <td>0</td>\n",
              "    </tr>\n",
              "  </tbody>\n",
              "</table>\n",
              "<p>5 rows × 1502 columns</p>\n",
              "</div>\n",
              "      <button class=\"colab-df-convert\" onclick=\"convertToInteractive('df-118b6850-8066-4bd5-91cb-7f29cb8a35dc')\"\n",
              "              title=\"Convert this dataframe to an interactive table.\"\n",
              "              style=\"display:none;\">\n",
              "        \n",
              "  <svg xmlns=\"http://www.w3.org/2000/svg\" height=\"24px\"viewBox=\"0 0 24 24\"\n",
              "       width=\"24px\">\n",
              "    <path d=\"M0 0h24v24H0V0z\" fill=\"none\"/>\n",
              "    <path d=\"M18.56 5.44l.94 2.06.94-2.06 2.06-.94-2.06-.94-.94-2.06-.94 2.06-2.06.94zm-11 1L8.5 8.5l.94-2.06 2.06-.94-2.06-.94L8.5 2.5l-.94 2.06-2.06.94zm10 10l.94 2.06.94-2.06 2.06-.94-2.06-.94-.94-2.06-.94 2.06-2.06.94z\"/><path d=\"M17.41 7.96l-1.37-1.37c-.4-.4-.92-.59-1.43-.59-.52 0-1.04.2-1.43.59L10.3 9.45l-7.72 7.72c-.78.78-.78 2.05 0 2.83L4 21.41c.39.39.9.59 1.41.59.51 0 1.02-.2 1.41-.59l7.78-7.78 2.81-2.81c.8-.78.8-2.07 0-2.86zM5.41 20L4 18.59l7.72-7.72 1.47 1.35L5.41 20z\"/>\n",
              "  </svg>\n",
              "      </button>\n",
              "      \n",
              "  <style>\n",
              "    .colab-df-container {\n",
              "      display:flex;\n",
              "      flex-wrap:wrap;\n",
              "      gap: 12px;\n",
              "    }\n",
              "\n",
              "    .colab-df-convert {\n",
              "      background-color: #E8F0FE;\n",
              "      border: none;\n",
              "      border-radius: 50%;\n",
              "      cursor: pointer;\n",
              "      display: none;\n",
              "      fill: #1967D2;\n",
              "      height: 32px;\n",
              "      padding: 0 0 0 0;\n",
              "      width: 32px;\n",
              "    }\n",
              "\n",
              "    .colab-df-convert:hover {\n",
              "      background-color: #E2EBFA;\n",
              "      box-shadow: 0px 1px 2px rgba(60, 64, 67, 0.3), 0px 1px 3px 1px rgba(60, 64, 67, 0.15);\n",
              "      fill: #174EA6;\n",
              "    }\n",
              "\n",
              "    [theme=dark] .colab-df-convert {\n",
              "      background-color: #3B4455;\n",
              "      fill: #D2E3FC;\n",
              "    }\n",
              "\n",
              "    [theme=dark] .colab-df-convert:hover {\n",
              "      background-color: #434B5C;\n",
              "      box-shadow: 0px 1px 3px 1px rgba(0, 0, 0, 0.15);\n",
              "      filter: drop-shadow(0px 1px 2px rgba(0, 0, 0, 0.3));\n",
              "      fill: #FFFFFF;\n",
              "    }\n",
              "  </style>\n",
              "\n",
              "      <script>\n",
              "        const buttonEl =\n",
              "          document.querySelector('#df-118b6850-8066-4bd5-91cb-7f29cb8a35dc button.colab-df-convert');\n",
              "        buttonEl.style.display =\n",
              "          google.colab.kernel.accessAllowed ? 'block' : 'none';\n",
              "\n",
              "        async function convertToInteractive(key) {\n",
              "          const element = document.querySelector('#df-118b6850-8066-4bd5-91cb-7f29cb8a35dc');\n",
              "          const dataTable =\n",
              "            await google.colab.kernel.invokeFunction('convertToInteractive',\n",
              "                                                     [key], {});\n",
              "          if (!dataTable) return;\n",
              "\n",
              "          const docLinkHtml = 'Like what you see? Visit the ' +\n",
              "            '<a target=\"_blank\" href=https://colab.research.google.com/notebooks/data_table.ipynb>data table notebook</a>'\n",
              "            + ' to learn more about interactive tables.';\n",
              "          element.innerHTML = '';\n",
              "          dataTable['output_type'] = 'display_data';\n",
              "          await google.colab.output.renderOutput(dataTable, element);\n",
              "          const docLink = document.createElement('div');\n",
              "          docLink.innerHTML = docLinkHtml;\n",
              "          element.appendChild(docLink);\n",
              "        }\n",
              "      </script>\n",
              "    </div>\n",
              "  </div>\n",
              "  "
            ]
          },
          "metadata": {},
          "execution_count": 222
        }
      ]
    },
    {
      "cell_type": "markdown",
      "source": [
        "## Train - Test Split"
      ],
      "metadata": {
        "datalore": {
          "node_id": "5xGBoaQ3gyqscgTKblwyrX",
          "type": "MD",
          "hide_input_from_viewers": true,
          "hide_output_from_viewers": true
        },
        "id": "FSkrb9-3M17l"
      }
    },
    {
      "cell_type": "code",
      "source": [
        "# Create trianing and testing data\n",
        "df2=df.drop(columns='Email No.')\n",
        "x = df2.iloc[:, :3000].values\n",
        "y = df2.iloc[:, -1].values\n",
        "x_train, x_test, y_train, y_test = train_test_split(x, y, test_size = 0.2, random_state = 1)"
      ],
      "execution_count": null,
      "outputs": [],
      "metadata": {
        "datalore": {
          "node_id": "DIQmF7EKujPfytxRg3YCI7",
          "type": "CODE",
          "hide_input_from_viewers": true,
          "hide_output_from_viewers": true
        },
        "id": "QQ_LXQVCM17m"
      }
    },
    {
      "cell_type": "markdown",
      "source": [
        "## Making Predictions using Multinomial NB Classifier"
      ],
      "metadata": {
        "datalore": {
          "node_id": "UN8loYrBwgtFXUDewcXM17",
          "type": "MD",
          "hide_input_from_viewers": true,
          "hide_output_from_viewers": true
        },
        "id": "q7eMSSbYM17m"
      }
    },
    {
      "cell_type": "code",
      "source": [
        "# Feed the train data into multinomial naive bias classifier\n",
        "\n",
        "mnb = MultinomialNB()\n",
        "mnb.fit(x_train, y_train)\n",
        "y_pred1 = mnb.predict(x_test)\n",
        "print(\"Accuracy Score for Naive Bayes : \", accuracy_score(y_pred1, y_test))\n",
        "print(\"Precision Score for Naive Bayes : \", precision_score(y_test, y_pred1))"
      ],
      "execution_count": null,
      "outputs": [
        {
          "output_type": "stream",
          "name": "stdout",
          "text": [
            "Accuracy Score for Naive Bayes :  0.9420289855072463\n",
            "Precision Score for Naive Bayes :  0.869942196531792\n"
          ]
        }
      ],
      "metadata": {
        "datalore": {
          "node_id": "6yp042arvwnqg0LGrmuWWV",
          "type": "CODE",
          "hide_input_from_viewers": true,
          "hide_output_from_viewers": true
        },
        "id": "3uJztKEAM17m",
        "colab": {
          "base_uri": "https://localhost:8080/"
        },
        "outputId": "b9e9a1ba-dc44-43a3-9c3c-8a61f34b7492"
      }
    },
    {
      "cell_type": "code",
      "source": [
        "# Check the model's accuracy of test data and plot the ROC-AUC curve\n",
        "\n",
        "# Calculate ROC-AUC score for each class\n",
        "roc_auc_scores = []\n",
        "for class_label in np.unique(y_test):\n",
        "    y_true_class = (y_test == class_label).astype(int)\n",
        "    y_pred_class = classifier.predict_proba(x_test)[:, class_label]\n",
        "    roc_auc = roc_auc_score(y_true_class, y_pred_class)\n",
        "    roc_auc_scores.append(roc_auc)\n",
        "\n",
        "# Plot the ROC-AUC scores for each class\n",
        "plt.figure(figsize=(8, 6))\n",
        "plt.bar(np.unique(y_test), roc_auc_scores)\n",
        "plt.xlabel('Class Label')\n",
        "plt.ylabel('ROC-AUC Score')\n",
        "plt.title('ROC-AUC Scores for Each Class')\n",
        "plt.show()\n"
      ],
      "execution_count": null,
      "outputs": [
        {
          "output_type": "display_data",
          "data": {
            "text/plain": [
              "<Figure size 800x600 with 1 Axes>"
            ],
            "image/png": "[encoded data removed]"
          },
          "metadata": {}
        }
      ],
      "metadata": {
        "datalore": {
          "node_id": "wtCFPWcgIz4aAXhzKV6wE8",
          "type": "CODE",
          "hide_input_from_viewers": true,
          "hide_output_from_viewers": true
        },
        "id": "b2aRhGXlM17m",
        "colab": {
          "base_uri": "https://localhost:8080/",
          "height": 564
        },
        "outputId": "08e8b023-788e-487b-a981-f09f39d47c80"
      }
    },
    {
      "cell_type": "markdown",
      "source": [
        "## Plot the confusion Matrix"
      ],
      "metadata": {
        "datalore": {
          "node_id": "g6MfgE1AdZhjcc50qcKU1s",
          "type": "MD",
          "hide_input_from_viewers": true,
          "hide_output_from_viewers": true
        },
        "id": "ilTa_srbM17n"
      }
    },
    {
      "cell_type": "code",
      "source": [
        "# Print Confusion Matrix using any 5 words of your choice with the column 'spam'\n",
        "\n",
        "selected_columns = ['the', 'to', 'and', 'for', 'of', 'Prediction']\n",
        "\n",
        "# Create a subset of the data with the selected columns\n",
        "subset_data = df2[selected_columns]\n",
        "\n",
        "# Split the subset data into features (X) and target variable (y)\n",
        "X = subset_data[selected_words]\n",
        "y = subset_data['Prediction']\n",
        "\n",
        "# Make predictions on the test data\n",
        "y_pred = classifier.predict(x_test)\n",
        "\n",
        "# Calculate the confusion matrix\n",
        "cm = confusion_matrix(y_test, y_pred)\n",
        "\n",
        "# Print the confusion matrix\n",
        "print(\"Confusion Matrix:\")\n",
        "print(cm)"
      ],
      "execution_count": null,
      "outputs": [
        {
          "output_type": "stream",
          "name": "stdout",
          "text": [
            "Confusion Matrix:\n",
            "[[674  45]\n",
            " [ 15 301]]\n"
          ]
        }
      ],
      "metadata": {
        "datalore": {
          "node_id": "tiAhIiHk0VOWiKcZY5FLXw",
          "type": "CODE",
          "hide_input_from_viewers": true,
          "hide_output_from_viewers": true
        },
        "id": "Vo8foIf6M17n",
        "colab": {
          "base_uri": "https://localhost:8080/"
        },
        "outputId": "b5b544ec-bcb0-4995-d2b4-40774c4d89ba"
      }
    },
    {
      "cell_type": "markdown",
      "source": [
        "## Trying out with SVMs"
      ],
      "metadata": {
        "datalore": {
          "node_id": "HF7SHfRsuivs31MT5QEdYU",
          "type": "MD",
          "hide_input_from_viewers": true,
          "hide_output_from_viewers": true
        },
        "id": "VFPz2bAFM17n"
      }
    },
    {
      "cell_type": "code",
      "source": [
        "# Try using Support Vector Classifier (SVC) from scikit-learn\n",
        "# Apply similar processes as above through SVC i.e., Make prediction, check accuacy and plot confusion matrix\n",
        "\n",
        "svc = SVC()\n",
        "svc.fit(x_train, y_train)\n",
        "y_pred2 = svc.predict(x_test)\n",
        "\n",
        "accuracy = accuracy_score(y_test, y_pred2)\n",
        "print(\"Accuracy:\", accuracy)\n",
        "\n",
        "y_pred_SVM = svc.predict(x_test)\n",
        "print(\"Precision score:\",  precision_score(y_test, y_pred_SVM))\n",
        "\n",
        "cm = confusion_matrix(y_test, y_pred2)\n",
        "plt.figure(figsize=(8, 6))\n",
        "sns.heatmap(cm, annot=True, fmt='d', cmap='Blues')\n",
        "plt.xlabel('Predicted')\n",
        "plt.ylabel('True')\n",
        "plt.title('Confusion Matrix')\n",
        "plt.show()\n"
      ],
      "execution_count": null,
      "outputs": [
        {
          "output_type": "stream",
          "name": "stdout",
          "text": [
            "Accuracy: 0.7990338164251207\n",
            "Precision score: 0.8698630136986302\n"
          ]
        },
        {
          "output_type": "display_data",
          "data": {
            "text/plain": [
              "<Figure size 800x600 with 2 Axes>"
            ],
            "image/png": "[encoded data removed]"
          },
          "metadata": {}
        }
      ],
      "metadata": {
        "datalore": {
          "node_id": "dharQLmMD4LOZurvenkdom",
          "type": "CODE",
          "hide_input_from_viewers": true,
          "hide_output_from_viewers": true
        },
        "id": "oru4RbzqM17n",
        "colab": {
          "base_uri": "https://localhost:8080/",
          "height": 599
        },
        "outputId": "d328b841-9a7c-4c45-9afc-4ce6b3e05d45"
      }
    },
    {
      "cell_type": "markdown",
      "source": [
        "## Comparing the models"
      ],
      "metadata": {
        "datalore": {
          "node_id": "rDs3zZmLCuEMozF6sE4QdY",
          "type": "MD",
          "hide_input_from_viewers": true,
          "hide_output_from_viewers": true
        },
        "id": "Yr7XCsi1M17o"
      }
    },
    {
      "cell_type": "code",
      "source": [
        "# Which model performed better?\n",
        "# Can you suggest some reason for better performance of one model over the other?\n",
        "results = {}\n",
        "results[\"SVM\"] = {\"accuracy\": accuracy, \"precision\": precision_score(y_test, y_pred_SVM)}\n",
        "results[\"MN Naive Bayes\"] = {\"accuracy\": accuracy_score(y_pred1, y_test), \"precision\": precision_score(y_test, y_pred1)}\n",
        "print(results)\n",
        "\n",
        "plt.figure(figsize=(10,5))\n",
        "plt.bar(results.keys(), [result[\"accuracy\"] for result in results.values()])\n",
        "plt.title(\"Accuracy of SVM and MN Naive Bayes Models\")\n",
        "plt.xlabel(\"Models\")\n",
        "plt.ylabel(\"Accuracy\")\n",
        "plt.ylim(0, 1)\n",
        "plt.show()"
      ],
      "execution_count": null,
      "outputs": [
        {
          "output_type": "stream",
          "name": "stdout",
          "text": [
            "{'SVM': {'accuracy': 0.7990338164251207, 'precision': 0.8698630136986302}, 'MN Naive Bayes': {'accuracy': 0.9420289855072463, 'precision': 0.869942196531792}}\n"
          ]
        },
        {
          "output_type": "display_data",
          "data": {
            "text/plain": [
              "<Figure size 1000x500 with 1 Axes>"
            ],
            "image/png": "[encoded data removed]"
          },
          "metadata": {}
        }
      ],
      "metadata": {
        "datalore": {
          "node_id": "OXkV2RFBF1Ld7DQFVa6083",
          "type": "CODE",
          "hide_input_from_viewers": true,
          "hide_output_from_viewers": true
        },
        "id": "-9c1hPB3M17o",
        "colab": {
          "base_uri": "https://localhost:8080/",
          "height": 504
        },
        "outputId": "78f051d2-2291-4b9a-dc3b-217ea01e1a60"
      }
    },
    {
      "cell_type": "markdown",
      "source": [
        "From above bar graph it is clear that Naive Bayes model has better accuracy than SVM model"
      ],
      "metadata": {
        "id": "ou3hnorv3SR7"
      }
    },
    {
      "cell_type": "markdown",
      "source": [
        "## Bonus Question"
      ],
      "metadata": {
        "datalore": {
          "node_id": "ZaqRxhVmJPCcmG1rd2ksQs",
          "type": "MD",
          "hide_input_from_viewers": true,
          "hide_output_from_viewers": true
        },
        "id": "f6L1yoJfM17o"
      }
    },
    {
      "cell_type": "code",
      "source": [
        "# Given a string. Try to create the dataset having each word of dataset as column and row values as the frequency of that word.\n",
        "# For example\n",
        "# s = \"I am a Python developer and currently working on a project to classify mails\"\n",
        "# dataframe = {\"I\" : 1,\n",
        "#              \"am\" :1,\n",
        "#              \"a\" : 2,\n",
        "#               ...}"
      ],
      "execution_count": null,
      "outputs": [],
      "metadata": {
        "datalore": {
          "node_id": "AlYkiwHK5HWuVKBPZBPTuj",
          "type": "CODE",
          "hide_input_from_viewers": true,
          "hide_output_from_viewers": true
        },
        "id": "VYKk3x73M17o"
      }
    },
    {
      "cell_type": "code",
      "source": [
        "\n",
        "s = \"I am a Python developer and currently working on a project to classify mails\"\n",
        "words = s.split()\n",
        "word_freq = {}\n",
        "for word in words:\n",
        "    if word in word_freq:\n",
        "        word_freq[word] += 1\n",
        "    else:\n",
        "        word_freq[word] = 1\n",
        "df = pd.DataFrame(word_freq.items(), columns=['Word', 'Frequency'])\n",
        "\n",
        "print(df)\n"
      ],
      "execution_count": null,
      "outputs": [
        {
          "output_type": "stream",
          "name": "stdout",
          "text": [
            "         Word  Frequency\n",
            "0           I          1\n",
            "1          am          1\n",
            "2           a          2\n",
            "3      Python          1\n",
            "4   developer          1\n",
            "5         and          1\n",
            "6   currently          1\n",
            "7     working          1\n",
            "8          on          1\n",
            "9     project          1\n",
            "10         to          1\n",
            "11   classify          1\n",
            "12      mails          1\n"
          ]
        }
      ],
      "metadata": {
        "datalore": {
          "node_id": "egNNvx9SUBtWQyfbiO2Nea",
          "type": "CODE",
          "hide_input_from_viewers": true,
          "hide_output_from_viewers": true
        },
        "id": "U_DpaL2WM17p",
        "colab": {
          "base_uri": "https://localhost:8080/"
        },
        "outputId": "1fc93fb6-2732-4c42-948c-cc4d58885232"
      }
    }
  ],
  "metadata": {
    "kernelspec": {
      "display_name": "Python",
      "language": "python",
      "name": "python"
    },
    "datalore": {
      "computation_mode": "JUPYTER",
      "package_manager": "pip",
      "base_environment": "default",
      "packages": [],
      "report_row_ids": [],
      "version": 3
    },
    "colab": {
      "provenance": [],
      "include_colab_link": true
    }
  },
  "nbformat": 4,
  "nbformat_minor": 0
}